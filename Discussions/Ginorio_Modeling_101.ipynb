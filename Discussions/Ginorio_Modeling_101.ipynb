{
 "cells": [
  {
   "cell_type": "markdown",
   "metadata": {},
   "source": [
    "## Simulation basics\n",
    "### Steps\n",
    "* Define possible outcomes for random variables\n",
    "* Assign probabilities\n",
    "* Define relationships between random variables\n",
    "* Get multiple outcomes by repeated random sampling\n",
    "* Analyze sample outcomes"
   ]
  },
  {
   "cell_type": "markdown",
   "metadata": {},
   "source": [
    "Write a simulation for  a simple game of chance (e.g., drawing cards, rolling one or more dice, etc.)   Run the simulation 1000 times and interpret the outcome.  Post your code here, and discuss what might be done to improve it."
   ]
  },
  {
   "cell_type": "markdown",
   "metadata": {},
   "source": [
    "Now, it is time to generate the probabilities (recall that they are purely random).\n",
    "They must sum up to 1 and in order to generate such numbers, we will use [dirichlet](https://en.wikipedia.org/wiki/Dirichlet_distribution)\n",
    "\n",
    "### Throwing two fair dice"
   ]
  },
  {
   "cell_type": "code",
   "execution_count": 2,
   "metadata": {
    "collapsed": true
   },
   "outputs": [],
   "source": [
    "import numpy as np\n",
    "import seaborn as sns\n",
    "import matplotlib.pyplot as plt"
   ]
  },
  {
   "cell_type": "code",
   "execution_count": 5,
   "metadata": {
    "pycharm": {
     "name": "#%%\n"
    }
   },
   "outputs": [],
   "source": [
    "from numpy.random import default_rng\n",
    "rng = default_rng()\n",
    "\n",
    "probs_1, probs_2 = rng.dirichlet(np.ones(6),size=2)\n",
    "\n",
    "sides = np.arange(1,7)\n"
   ]
  },
  {
   "cell_type": "markdown",
   "metadata": {},
   "source": [
    "argument_1 = alpha (vector of ones with length = 8)\n",
    "argument_2 = size ( generate x number of probabilities) - 2 dice then, size = 2\n"
   ]
  },
  {
   "cell_type": "markdown",
   "metadata": {},
   "source": [
    "### Simulation\n",
    "we will generate 1k games in which both dice are rolled 100 times.\n",
    "\n",
    "### Law of large numbers\n",
    "According to this law, a large number of repetitions of the experiment will yield the results close to the expected outcome"
   ]
  },
  {
   "cell_type": "code",
   "execution_count": 6,
   "metadata": {
    "pycharm": {
     "name": "#%%\n"
    }
   },
   "outputs": [],
   "source": [
    "die_1_rolls = np.random.choice(sides,\n",
    "                               size= (1000, 100),\n",
    "                               p= probs_1)"
   ]
  },
  {
   "cell_type": "code",
   "execution_count": 7,
   "metadata": {
    "pycharm": {
     "name": "#%%\n"
    }
   },
   "outputs": [],
   "source": [
    "# from numpy.random import randint as U\n",
    "die_2_rolls = np.random.choice(sides,\n",
    "                               size= (1000, 100),\n",
    "                               p= probs_2)"
   ]
  },
  {
   "cell_type": "markdown",
   "metadata": {},
   "source": [
    "\n",
    "We now know how to implement the first two steps of a simulation. Now let's implement the next step -\n",
    "defining the relationship between random variables.\n",
    "\n",
    "size = The size argument will give us an array with 1k rows (games) and 100 columns (rolls)."
   ]
  },
  {
   "cell_type": "markdown",
   "metadata": {},
   "source": [
    "### Scores\n",
    "We roll every die 100 times because the least score we can get is 1, assuming we want to score 100 points\n",
    "After “playing” 1k games we need to calculate the scores for each game\n",
    "sum everything up, do it column-wise (from left to right) - axis = 1\n"
   ]
  },
  {
   "cell_type": "code",
   "execution_count": 8,
   "metadata": {
    "pycharm": {
     "name": "#%%\n"
    }
   },
   "outputs": [],
   "source": [
    "die_1_results = die_1_rolls.cumsum(axis=1)\n",
    "die_2_results = die_2_rolls.cumsum(axis=1)"
   ]
  },
  {
   "cell_type": "code",
   "execution_count": 9,
   "metadata": {
    "pycharm": {
     "name": "#%%\n"
    }
   },
   "outputs": [],
   "source": [
    "die_1_won_game_at = np.argmax(die_1_results >= 100, axis=1)\n",
    "die_2_won_game_at = np.argmax(die_2_results >= 100, axis=1)"
   ]
  },
  {
   "cell_type": "code",
   "execution_count": 10,
   "metadata": {
    "pycharm": {
     "name": "#%%\n"
    }
   },
   "outputs": [],
   "source": [
    "die_1_win_count = np.sum(die_1_won_game_at < die_2_won_game_at)\n",
    "die_2_win_count = np.sum(die_2_won_game_at < die_1_won_game_at)\n",
    "tie_game_count = np.sum(die_1_won_game_at == die_2_won_game_at)"
   ]
  },
  {
   "cell_type": "markdown",
   "metadata": {},
   "source": [
    "### Visualize"
   ]
  },
  {
   "cell_type": "code",
   "execution_count": 11,
   "metadata": {
    "pycharm": {
     "name": "#%%\n"
    }
   },
   "outputs": [
    {
     "name": "stdout",
     "output_type": "stream",
     "text": [
      "Die 1 won 31 times\n",
      "Die 2 won 952 times\n",
      "Tie games 17\n"
     ]
    }
   ],
   "source": [
    "print(\"Die 1 won {} times\". format(die_1_win_count))\n",
    "print(\"Die 2 won {} times\". format(die_2_win_count))\n",
    "print(\"Tie games {}\". format(tie_game_count))"
   ]
  },
  {
   "cell_type": "code",
   "execution_count": 56,
   "metadata": {
    "pycharm": {
     "name": "#%%\n"
    }
   },
   "outputs": [
    {
     "data": {
      "text/plain": "<Figure size 360x360 with 1 Axes>",
      "image/png": "[encoded data removed]"
     },
     "metadata": {
      "needs_background": "light"
     },
     "output_type": "display_data"
    },
    {
     "data": {
      "text/plain": "<Figure size 360x360 with 1 Axes>",
      "image/png": "[encoded data removed]"
     },
     "metadata": {
      "needs_background": "light"
     },
     "output_type": "display_data"
    }
   ],
   "source": [
    "\n",
    "ax1 = sns.displot(die_1_won_game_at, color=\"green\", kde= True, discrete = True)\n",
    "ax2 = sns.displot(die_2_won_game_at, color=\"blue\", kde = True)\n",
    "\n",
    "ax1.set_axis_labels(\"Roll Count\")\n",
    "\n",
    "plt.xlabel(\"Roll Count\")\n",
    "plt.show()"
   ]
  }
 ],
 "metadata": {
  "kernelspec": {
   "display_name": "Python 3",
   "language": "python",
   "name": "python3"
  },
  "language_info": {
   "codemirror_mode": {
    "name": "ipython",
    "version": 3
   },
   "file_extension": ".py",
   "mimetype": "text/x-python",
   "name": "python",
   "nbconvert_exporter": "python",
   "pygments_lexer": "ipython3",
   "version": "3.6.13"
  }
 },
 "nbformat": 4,
 "nbformat_minor": 1
}