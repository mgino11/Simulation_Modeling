{
 "cells": [
  {
   "cell_type": "markdown",
   "metadata": {},
   "source": [
    "## Simulation basics\n",
    "### Steps\n",
    "* Define possible outcomes for random variables\n",
    "* Assign probabilities\n",
    "* Define relationships between random variables\n",
    "* Get multiple outcomes by repeated random sampling\n",
    "* Analyze sample outcomes"
   ]
  },
  {
   "cell_type": "markdown",
   "metadata": {},
   "source": [
    "Write a simulation for  a simple game of chance (e.g., drawing cards, rolling one or more dice, etc.)   Run the simulation 1000 times and interpret the outcome.  Post your code here, and discuss what might be done to improve it."
   ]
  },
  {
   "cell_type": "markdown",
   "metadata": {},
   "source": [
    "Now, it is time to generate the probabilities (recall that they are purely random).\n",
    "They must sum up to 1 and in order to generate such numbers, we will use [dirichlet](https://en.wikipedia.org/wiki/Dirichlet_distribution) Distribution or multivariate beta distribution (MBD) where the unknown quantity $\\alpha$ may be a parameter of the model or a latent variable rather than an observable variable.\n",
    "\n",
    "### Throwing two fair dice"
   ]
  },
  {
   "cell_type": "code",
   "execution_count": 2,
   "metadata": {
    "collapsed": true
   },
   "outputs": [],
   "source": [
    "import numpy as np\n",
    "import seaborn as sns\n",
    "import matplotlib.pyplot as plt\n",
    "import pandas as pd"
   ]
  },
  {
   "cell_type": "code",
   "execution_count": 61,
   "metadata": {
    "pycharm": {
     "name": "#%%\n"
    }
   },
   "outputs": [],
   "source": [
    "from numpy.random import default_rng\n",
    "rng = default_rng()\n",
    "\n",
    "probs_1, probs_2 = rng.dirichlet(np.ones(6),size=2)\n",
    "\n",
    "sides = np.arange(1,7)\n"
   ]
  },
  {
   "cell_type": "markdown",
   "metadata": {},
   "source": [
    "* argument_1 = alpha (vector of ones with length = 8)\n",
    "* argument_2 = size ( generate x number of probabilities)\n",
    "* dice = 2 then, size = 2\n"
   ]
  },
  {
   "cell_type": "markdown",
   "metadata": {},
   "source": [
    "### Simulation\n",
    "\n",
    "we will generate 1k games in which both dice are rolled 100 times.\n",
    "\n",
    "### Law of large numbers\n",
    "According to this law, a large number of repetitions of the experiment will yield the results close to the expected outcome"
   ]
  },
  {
   "cell_type": "code",
   "execution_count": 63,
   "metadata": {
    "pycharm": {
     "name": "#%%\n"
    }
   },
   "outputs": [],
   "source": [
    "die_1_rolls = np.random.choice(sides,\n",
    "                               size= (1000, 100),\n",
    "                               p= probs_1)"
   ]
  },
  {
   "cell_type": "code",
   "execution_count": 64,
   "metadata": {
    "pycharm": {
     "name": "#%%\n"
    }
   },
   "outputs": [],
   "source": [
    "# from numpy.random import randint as U\n",
    "die_2_rolls = np.random.choice(sides,\n",
    "                               size= (1000, 100),\n",
    "                               p= probs_2)"
   ]
  },
  {
   "cell_type": "markdown",
   "metadata": {},
   "source": [
    "\n",
    "size = The size argument will give us an array with 1k rows (games) and 100 columns (rolls).\n",
    "\n",
    "We now know how to implement the first two steps of a simulation. Now let's implement the next step -\n",
    "defining the relationship between random variables.\n"
   ]
  },
  {
   "cell_type": "markdown",
   "metadata": {},
   "source": [
    "### Scores\n",
    "We roll every die 100 times because the least score we can get is 1, assuming we want to score 100 points\n",
    "After “playing” 1k games we need to calculate the scores for each game\n",
    "sum everything up, do it column-wise (from left to right) - axis = 1\n"
   ]
  },
  {
   "cell_type": "code",
   "execution_count": 65,
   "metadata": {
    "pycharm": {
     "name": "#%%\n"
    }
   },
   "outputs": [],
   "source": [
    "die_1_results = die_1_rolls.cumsum(axis=1)\n",
    "die_2_results = die_2_rolls.cumsum(axis=1)"
   ]
  },
  {
   "cell_type": "code",
   "execution_count": 66,
   "metadata": {
    "pycharm": {
     "name": "#%%\n"
    }
   },
   "outputs": [],
   "source": [
    "die_1_won_game_at = np.argmax(die_1_results >= 100, axis=1)\n",
    "die_2_won_game_at = np.argmax(die_2_results >= 100, axis=1)"
   ]
  },
  {
   "cell_type": "code",
   "execution_count": 67,
   "metadata": {
    "pycharm": {
     "name": "#%%\n"
    }
   },
   "outputs": [],
   "source": [
    "die_1_win_count = np.sum(die_1_won_game_at < die_2_won_game_at)\n",
    "die_2_win_count = np.sum(die_2_won_game_at < die_1_won_game_at)\n",
    "tie_game_count = np.sum(die_1_won_game_at == die_2_won_game_at)"
   ]
  },
  {
   "cell_type": "markdown",
   "metadata": {},
   "source": [
    "### Visualize"
   ]
  },
  {
   "cell_type": "code",
   "execution_count": 80,
   "metadata": {
    "pycharm": {
     "name": "#%%\n"
    }
   },
   "outputs": [
    {
     "name": "stdout",
     "output_type": "stream",
     "text": [
      "Die 1 won 10 times\n",
      "Die 2 won 979 times\n",
      "Tie games 11\n"
     ]
    }
   ],
   "source": [
    "print(\"Die 1 won {} times\". format(die_1_win_count))\n",
    "print(\"Die 2 won {} times\". format(die_2_win_count))\n",
    "print(\"Tie games {}\". format(tie_game_count))"
   ]
  },
  {
   "cell_type": "markdown",
   "source": [
    "### Data Frame"
   ],
   "metadata": {
    "collapsed": false
   }
  },
  {
   "cell_type": "code",
   "execution_count": 124,
   "outputs": [],
   "source": [
    "df = pd.DataFrame(die_1_rolls)\n",
    "df = df.cumsum(axis=1)"
   ],
   "metadata": {
    "collapsed": false,
    "pycharm": {
     "name": "#%%\n"
    }
   }
  },
  {
   "cell_type": "code",
   "execution_count": 128,
   "outputs": [
    {
     "data": {
      "text/plain": "   0   1   2   3   4   5   6   7   8   9  ...   91   92   93   94   95   96  \\\n0  1   4   9  12  15  20  26  29  30  33  ...  307  312  318  321  326  329   \n1  3   6   7  12  17  22  25  28  31  34  ...  283  288  293  298  303  304   \n2  3   8   9  10  13  14  15  20  23  28  ...  304  307  313  319  323  326   \n3  5  10  15  20  21  26  27  32  37  42  ...  315  318  319  320  325  326   \n4  6   9  12  15  18  21  22  25  28  31  ...  290  295  298  299  304  307   \n\n    97   98   99  won_game_at  \n0  330  335  338          4.0  \n1  307  310  313        236.0  \n2  331  334  335        236.0  \n3  329  332  333        236.0  \n4  308  313  316         90.0  \n\n[5 rows x 101 columns]",
      "text/html": "<div>\n<style scoped>\n    .dataframe tbody tr th:only-of-type {\n        vertical-align: middle;\n    }\n\n    .dataframe tbody tr th {\n        vertical-align: top;\n    }\n\n    .dataframe thead th {\n        text-align: right;\n    }\n</style>\n<table border=\"1\" class=\"dataframe\">\n  <thead>\n    <tr style=\"text-align: right;\">\n      <th></th>\n      <th>0</th>\n      <th>1</th>\n      <th>2</th>\n      <th>3</th>\n      <th>4</th>\n      <th>5</th>\n      <th>6</th>\n      <th>7</th>\n      <th>8</th>\n      <th>9</th>\n      <th>...</th>\n      <th>91</th>\n      <th>92</th>\n      <th>93</th>\n      <th>94</th>\n      <th>95</th>\n      <th>96</th>\n      <th>97</th>\n      <th>98</th>\n      <th>99</th>\n      <th>won_game_at</th>\n    </tr>\n  </thead>\n  <tbody>\n    <tr>\n      <th>0</th>\n      <td>1</td>\n      <td>4</td>\n      <td>9</td>\n      <td>12</td>\n      <td>15</td>\n      <td>20</td>\n      <td>26</td>\n      <td>29</td>\n      <td>30</td>\n      <td>33</td>\n      <td>...</td>\n      <td>307</td>\n      <td>312</td>\n      <td>318</td>\n      <td>321</td>\n      <td>326</td>\n      <td>329</td>\n      <td>330</td>\n      <td>335</td>\n      <td>338</td>\n      <td>4.0</td>\n    </tr>\n    <tr>\n      <th>1</th>\n      <td>3</td>\n      <td>6</td>\n      <td>7</td>\n      <td>12</td>\n      <td>17</td>\n      <td>22</td>\n      <td>25</td>\n      <td>28</td>\n      <td>31</td>\n      <td>34</td>\n      <td>...</td>\n      <td>283</td>\n      <td>288</td>\n      <td>293</td>\n      <td>298</td>\n      <td>303</td>\n      <td>304</td>\n      <td>307</td>\n      <td>310</td>\n      <td>313</td>\n      <td>236.0</td>\n    </tr>\n    <tr>\n      <th>2</th>\n      <td>3</td>\n      <td>8</td>\n      <td>9</td>\n      <td>10</td>\n      <td>13</td>\n      <td>14</td>\n      <td>15</td>\n      <td>20</td>\n      <td>23</td>\n      <td>28</td>\n      <td>...</td>\n      <td>304</td>\n      <td>307</td>\n      <td>313</td>\n      <td>319</td>\n      <td>323</td>\n      <td>326</td>\n      <td>331</td>\n      <td>334</td>\n      <td>335</td>\n      <td>236.0</td>\n    </tr>\n    <tr>\n      <th>3</th>\n      <td>5</td>\n      <td>10</td>\n      <td>15</td>\n      <td>20</td>\n      <td>21</td>\n      <td>26</td>\n      <td>27</td>\n      <td>32</td>\n      <td>37</td>\n      <td>42</td>\n      <td>...</td>\n      <td>315</td>\n      <td>318</td>\n      <td>319</td>\n      <td>320</td>\n      <td>325</td>\n      <td>326</td>\n      <td>329</td>\n      <td>332</td>\n      <td>333</td>\n      <td>236.0</td>\n    </tr>\n    <tr>\n      <th>4</th>\n      <td>6</td>\n      <td>9</td>\n      <td>12</td>\n      <td>15</td>\n      <td>18</td>\n      <td>21</td>\n      <td>22</td>\n      <td>25</td>\n      <td>28</td>\n      <td>31</td>\n      <td>...</td>\n      <td>290</td>\n      <td>295</td>\n      <td>298</td>\n      <td>299</td>\n      <td>304</td>\n      <td>307</td>\n      <td>308</td>\n      <td>313</td>\n      <td>316</td>\n      <td>90.0</td>\n    </tr>\n  </tbody>\n</table>\n<p>5 rows × 101 columns</p>\n</div>"
     },
     "execution_count": 128,
     "metadata": {},
     "output_type": "execute_result"
    }
   ],
   "source": [
    "df['won_game_at'] = df.idxmax(axis=0)\n",
    "df['won_game_at'] >= 100\n",
    "df.head()"
   ],
   "metadata": {
    "collapsed": false,
    "pycharm": {
     "name": "#%%\n"
    }
   }
  },
  {
   "cell_type": "markdown",
   "source": [
    "### Win Frequency - die_1_won_game_at"
   ],
   "metadata": {
    "collapsed": false
   }
  },
  {
   "cell_type": "code",
   "execution_count": 130,
   "outputs": [
    {
     "data": {
      "text/plain": "<AxesSubplot:ylabel='Frequency'>"
     },
     "execution_count": 130,
     "metadata": {},
     "output_type": "execute_result"
    },
    {
     "data": {
      "text/plain": "<Figure size 432x288 with 1 Axes>",
      "image/png": "[encoded data removed]"
     },
     "metadata": {
      "needs_background": "light"
     },
     "output_type": "display_data"
    }
   ],
   "source": [
    "won_df = pd.DataFrame()\n",
    "won_df['win_freq_1'] = die_1_won_game_at\n",
    "won_df['win_freq_2'] = die_2_won_game_at\n",
    "won_df.plot.hist(bins=100)\n"
   ],
   "metadata": {
    "collapsed": false,
    "pycharm": {
     "name": "#%%\n"
    }
   }
  },
  {
   "cell_type": "code",
   "execution_count": 131,
   "outputs": [
    {
     "data": {
      "text/plain": "<AxesSubplot:ylabel='Density'>"
     },
     "execution_count": 131,
     "metadata": {},
     "output_type": "execute_result"
    },
    {
     "data": {
      "text/plain": "<Figure size 432x288 with 1 Axes>",
      "image/png": "[encoded data removed]"
     },
     "metadata": {
      "needs_background": "light"
     },
     "output_type": "display_data"
    }
   ],
   "source": [
    "won_df.plot.kde()"
   ],
   "metadata": {
    "collapsed": false,
    "pycharm": {
     "name": "#%%\n"
    }
   }
  },
  {
   "cell_type": "code",
   "execution_count": 132,
   "outputs": [
    {
     "data": {
      "text/plain": "          win_freq_1  win_freq_2\n0.231292        29.0   21.000000\n0.006590        25.0   18.583418\n0.450088        30.0   23.000000\n0.017896        25.0   19.000000\n0.233444        29.0   21.000000\n0.060690        27.0   20.000000",
      "text/html": "<div>\n<style scoped>\n    .dataframe tbody tr th:only-of-type {\n        vertical-align: middle;\n    }\n\n    .dataframe tbody tr th {\n        vertical-align: top;\n    }\n\n    .dataframe thead th {\n        text-align: right;\n    }\n</style>\n<table border=\"1\" class=\"dataframe\">\n  <thead>\n    <tr style=\"text-align: right;\">\n      <th></th>\n      <th>win_freq_1</th>\n      <th>win_freq_2</th>\n    </tr>\n  </thead>\n  <tbody>\n    <tr>\n      <th>0.231292</th>\n      <td>29.0</td>\n      <td>21.000000</td>\n    </tr>\n    <tr>\n      <th>0.006590</th>\n      <td>25.0</td>\n      <td>18.583418</td>\n    </tr>\n    <tr>\n      <th>0.450088</th>\n      <td>30.0</td>\n      <td>23.000000</td>\n    </tr>\n    <tr>\n      <th>0.017896</th>\n      <td>25.0</td>\n      <td>19.000000</td>\n    </tr>\n    <tr>\n      <th>0.233444</th>\n      <td>29.0</td>\n      <td>21.000000</td>\n    </tr>\n    <tr>\n      <th>0.060690</th>\n      <td>27.0</td>\n      <td>20.000000</td>\n    </tr>\n  </tbody>\n</table>\n</div>"
     },
     "execution_count": 132,
     "metadata": {},
     "output_type": "execute_result"
    }
   ],
   "source": [
    "won_df.quantile(probs_1)"
   ],
   "metadata": {
    "collapsed": false,
    "pycharm": {
     "name": "#%%\n"
    }
   }
  }
 ],
 "metadata": {
  "kernelspec": {
   "display_name": "Python 3",
   "language": "python",
   "name": "python3"
  },
  "language_info": {
   "codemirror_mode": {
    "name": "ipython",
    "version": 3
   },
   "file_extension": ".py",
   "mimetype": "text/x-python",
   "name": "python",
   "nbconvert_exporter": "python",
   "pygments_lexer": "ipython3",
   "version": "3.6.13"
  }
 },
 "nbformat": 4,
 "nbformat_minor": 1
}