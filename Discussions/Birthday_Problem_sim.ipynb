{
 "cells": [
  {
   "cell_type": "code",
   "execution_count": 1,
   "metadata": {
    "collapsed": true
   },
   "outputs": [],
   "source": [
    "import random\n",
    "\n",
    "import numpy as np\n",
    "\n",
    "def sameDate (numPeople, numSame):\n",
    "    possibleDates = range(366)\n",
    "    birthdays = [0] * 366\n",
    "    for p in range (numPeople):\n",
    "        birthDate = random.choice(possibleDates)\n",
    "        birthdays[birthDate] += 1\n",
    "    return max(birthdays) >= numSame\n"
   ]
  },
  {
   "cell_type": "code",
   "execution_count": 2,
   "outputs": [],
   "source": [
    "def birthdayProb(numPeople, numSame, numTrials):\n",
    "    numHits = 0\n",
    "    for t in range(numTrials):\n",
    "        if sameDate(numPeople, numSame):\n",
    "            numHits += 1\n",
    "    return numHits/numTrials"
   ],
   "metadata": {
    "collapsed": false,
    "pycharm": {
     "name": "#%%\n"
    }
   }
  },
  {
   "cell_type": "code",
   "execution_count": 3,
   "outputs": [
    {
     "name": "stdout",
     "output_type": "stream",
     "text": [
      "For 10 est. prob. of a shared bday is 0.1128\n",
      "Actual prob. for N = 100 =  0.1166454118039999\n",
      "For 20 est. prob. of a shared bday is 0.4117\n",
      "Actual prob. for N = 100 =  0.4105696370550831\n",
      "For 40 est. prob. of a shared bday is 0.8933\n",
      "Actual prob. for N = 100 =  0.89054476188945\n",
      "For 100 est. prob. of a shared bday is 1.0\n",
      "Actual prob. for N = 100 =  0.9999996784357714\n"
     ]
    }
   ],
   "source": [
    "import math\n",
    "\n",
    "for numPeople in [10, 20, 40, 100]:\n",
    "    print( 'For', numPeople,\n",
    "           'est. prob. of a shared bday is',\n",
    "           birthdayProb(numPeople, 2, 10000))\n",
    "    numerator = math.factorial(366)\n",
    "    denom = (366**numPeople)*math.factorial(366-numPeople)\n",
    "    print('Actual prob. for N = 100 = ',\n",
    "          1 - numerator/denom)"
   ],
   "metadata": {
    "collapsed": false,
    "pycharm": {
     "name": "#%%\n"
    }
   }
  }
 ],
 "metadata": {
  "kernelspec": {
   "display_name": "Python 3",
   "language": "python",
   "name": "python3"
  },
  "language_info": {
   "codemirror_mode": {
    "name": "ipython",
    "version": 2
   },
   "file_extension": ".py",
   "mimetype": "text/x-python",
   "name": "python",
   "nbconvert_exporter": "python",
   "pygments_lexer": "ipython2",
   "version": "2.7.6"
  }
 },
 "nbformat": 4,
 "nbformat_minor": 0
}