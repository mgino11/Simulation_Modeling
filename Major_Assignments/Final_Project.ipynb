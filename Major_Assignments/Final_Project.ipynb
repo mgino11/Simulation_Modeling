{
 "cells": [
  {
   "cell_type": "markdown",
   "source": [
    "### Assignment Information\n",
    "Using SimPy, write a process simulation that includes waiting time (discrete event simulation).  You may use any topic of interest to you.  Write the simulation and all of the following in Jupyter.\n",
    "\n",
    "Each element is worth 5 points and will be graded using the rubric shown here.\n",
    "\n",
    "1.  State the problem and its significance.\n",
    "\n",
    "2.  Provide a flow-chart model.\n",
    "\n",
    "3.  Simulate the process for the appropriate number of iterations (justify)\n",
    "\n",
    "4.  Justify the validity of the model and discuss how you verified it.\n",
    "\n",
    "5.  State  your conclusions/ findings from the model.\n",
    "\n",
    "6.  Generate appropriate graphs (more than one) to illustrate the results and provide a PowerPoint presentation to share with your colleagues.  Post this to the discussion.\n",
    "\n",
    "Be sure that your code works!"
   ],
   "metadata": {
    "collapsed": false
   }
  },
  {
   "cell_type": "code",
   "execution_count": null,
   "metadata": {
    "collapsed": true
   },
   "outputs": [],
   "source": [
    "import numpy as np\n",
    "import matplotlib.pyplot as plt\n",
    "import pandas as pd\n",
    "import random"
   ]
  },
  {
   "cell_type": "code",
   "execution_count": null,
   "outputs": [],
   "source": [
    "random"
   ],
   "metadata": {
    "collapsed": false,
    "pycharm": {
     "name": "#%%\n"
    }
   }
  },
  {
   "cell_type": "markdown",
   "source": [
    "Compared to real-world experimentation, simulation has a number of remarkable advantages – more below. Understanding these advantages will allow the team to better discern the critical value propositions of simulations.Compared to real-world experimentation, simulation has a number of remarkable advantages – more below. Understanding these advantages will allow the team to better discern the critical value propositions of simulations.\n",
    "\n",
    "Reduce costs and time to implementation\n",
    "If all the details for a new or changed process are known, then the team can simply follow a few simple steps to assess the cost of implementation. However, a simulation will lead to a finalized plan that will more accurately determine how to bring the proposed changes into the real-world and how to allocate the range of resources that implementation will demand. Moreover, the team will be able to reduce the risk of unexpected challenges, unreasonable downtime, or catastrophic business process interruptions.\n",
    "\n",
    "Reduce costs and time to implementation\n",
    "If all the details for a new or changed process are known, then the team can simply follow a few simple steps to assess the cost of implementation. However, a simulation will lead to a finalized plan that will more accurately determine how to bring the proposed changes into the real-world and how to allocate the range of resources that implementation will demand. Moreover, the team will be able to reduce the risk of unexpected challenges, unreasonable downtime, or catastrophic business process interruptions.\n",
    "\n",
    "3. Allocate optimal resources\n",
    "Does the team have enough resources – more specifically, time, staff, and money – to be able to evaluate the consequences of every possible parameter change in a business process? The team most likely does not – even if the team did, simulation can help avoid spending ridiculous amounts of money on testing all conceivable outcomes.\n",
    "\n",
    "Time remains an issue with simulation to some extent (since the team needs to define and test models), but the team won’t need to worry about constrained resources in a simulated environment as much. For example, if the changes to a business process imply the purchase of new hardware, a simulation could facilitate testing the impact of the hardware on operations without actually purchasing it.\n",
    "\n",
    "4. Test a wide range of ideas\n",
    "Simulation is flexible and significantly facilitates the testing of a wide range of questions. Simulation can stimulate creativity and “process thinking.” By changing the input data and parameters of a model, the team can quickly assess how it performs under different conditions. Aside from that, business process simulation allows the team to identify and throw away unrealistic, unsustainable ideas and focus on the ones that have real potential to improve the business’s operations.\n",
    "\n",
    "5. Test a wide range of ideas\n",
    "Simulation is flexible and significantly facilitates the testing of a wide range of questions. Simulation can stimulate creativity and “process thinking.” By changing the input data and parameters of a model, the team can quickly assess how it performs under different conditions. Aside from that, business process simulation allows the team to identify and throw away unrealistic, unsustainable ideas and focus on the ones that have real potential to improve the business’s operations.\n",
    "6. Assess the effects of the changes from real-world data\n",
    "With business process simulation, the team can obtain hard data as to how different scenarios will impact operations. First of all, the team can perform a more reliable and validated cost-benefit analysis. Second, benefits proposed improvements to managers and stakeholders can be more easily demonstrated. Ultimately, business process simulation can prevent organizational hurdles by winning over key decision-makers with demonstrable results."
   ],
   "metadata": {
    "collapsed": false
   }
  }
 ],
 "metadata": {
  "kernelspec": {
   "display_name": "Python 3",
   "language": "python",
   "name": "python3"
  },
  "language_info": {
   "codemirror_mode": {
    "name": "ipython",
    "version": 2
   },
   "file_extension": ".py",
   "mimetype": "text/x-python",
   "name": "python",
   "nbconvert_exporter": "python",
   "pygments_lexer": "ipython2",
   "version": "2.7.6"
  }
 },
 "nbformat": 4,
 "nbformat_minor": 0
}